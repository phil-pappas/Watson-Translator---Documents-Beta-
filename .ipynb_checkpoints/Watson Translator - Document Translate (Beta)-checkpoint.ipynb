{
 "cells": [
  {
   "cell_type": "markdown",
   "metadata": {},
   "source": [
    "## Convert a PDF to DOC\n",
    "\n",
    "IBM Watson™ Language Translator is on a beta phase for PDF files and it handles better Word documents. For that purpose we will use an open-source library pdf2docx"
   ]
  },
  {
   "cell_type": "code",
   "execution_count": 32,
   "metadata": {},
   "outputs": [],
   "source": [
    "#Uncomment the following command in order to install it directly.\n",
    "#!pip install pdf2docx"
   ]
  },
  {
   "cell_type": "code",
   "execution_count": 48,
   "metadata": {},
   "outputs": [
    {
     "name": "stdout",
     "output_type": "stream",
     "text": [
      "Parsing Page 44: 44/44...\n",
      "Creating Page 44: 44/44...\n",
      "--------------------------------------------------\n",
      "Terminated in 5.666066796002269s.\n"
     ]
    }
   ],
   "source": [
    "from pdf2docx import parse\n",
    "\n",
    "pdf_file = 'files/dutch/tax_statement_notes_2020.pdf'\n",
    "docx_file = 'files/dutch/tax_statement_notes_2020.docx'\n",
    "\n",
    "# convert pdf to docx\n",
    "parse(pdf_file, docx_file, start=0, end=None)"
   ]
  },
  {
   "cell_type": "markdown",
   "metadata": {},
   "source": [
    "## Getting started with Language Translator\n",
    "\n",
    "IBM Watson™ Language Translator allows you to translate text programmatically from one language into another language.\n",
    "\n",
    "Setup Instance in the IBM Cloud https://cloud.ibm.com/docs/language-translator?topic=language-translator-gettingstarted\n",
    "\n",
    "\n"
   ]
  },
  {
   "cell_type": "markdown",
   "metadata": {},
   "source": [
    "## Introduction"
   ]
  },
  {
   "cell_type": "markdown",
   "metadata": {},
   "source": [
    "This Jupyter Notebook helps to translate files from one language to another while preserving the original format. More than 12 different file formats can be translated, including MS Office, Open Office, and PDF.\n",
    "\n",
    "Documentation https://cloud.ibm.com/docs/language-translator?topic=language-translator-document-translator-tutorial\n"
   ]
  },
  {
   "cell_type": "markdown",
   "metadata": {},
   "source": [
    "## 1.Setup"
   ]
  },
  {
   "cell_type": "markdown",
   "metadata": {},
   "source": [
    "To prepare your environment, you need to install some packages and enter credentials for the Watson services."
   ]
  },
  {
   "cell_type": "code",
   "execution_count": 1,
   "metadata": {},
   "outputs": [],
   "source": [
    "import json\n",
    "from ibm_watson import LanguageTranslatorV3\n",
    "from ibm_cloud_sdk_core.authenticators import IAMAuthenticator\n",
    "\n",
    "authenticator = IAMAuthenticator('fg_jOKI4m-ZgGvxz29B6LckAbNZROT0wwdwI87yaw0v2')\n",
    "language_translator = LanguageTranslatorV3(\n",
    "    version='2018-05-01',\n",
    "    authenticator=authenticator\n",
    ")\n",
    "language_translator.set_service_url('https://api.eu-de.language-translator.watson.cloud.ibm.com/instances/cd151abf-6d35-4b75-b262-412574d0c603')"
   ]
  },
  {
   "cell_type": "markdown",
   "metadata": {},
   "source": [
    "## 2.List the documents customized\n",
    "Lists documents that have been submitted for translation."
   ]
  },
  {
   "cell_type": "code",
   "execution_count": 2,
   "metadata": {},
   "outputs": [
    {
     "name": "stdout",
     "output_type": "stream",
     "text": [
      "{\n",
      "  \"documents\": []\n",
      "}\n"
     ]
    }
   ],
   "source": [
    "result = language_translator.list_documents().get_result()\n",
    "print(json.dumps(result, indent=2))"
   ]
  },
  {
   "cell_type": "markdown",
   "metadata": {},
   "source": [
    "## 3.Delete translated documents (if required)\n",
    "Deletes a document."
   ]
  },
  {
   "cell_type": "code",
   "execution_count": null,
   "metadata": {},
   "outputs": [],
   "source": [
    "language_translator.delete_document(document_id='ADD ID') #add document ID\n"
   ]
  },
  {
   "cell_type": "markdown",
   "metadata": {},
   "source": [
    "## 4.Add file for translation\n",
    "\n",
    "Submit a document for translation. You can submit the document contents in the file parameter, or you can reference a previously submitted document by document ID.\n",
    "\n",
    "a) Add local file location <br>\n",
    "b) Add content type (See below)<br>\n",
    "c) Add file name<br>\n",
    "d) Add translation languages to / from  example en-nl<br>\n",
    "\n",
    "***Application Microsoft***\n",
    "<br>\n",
    "application/powerpoint, application/mspowerpoint, application/x-rtf, application/json, application/xml, application/vnd.ms-excel application/vnd.ms-powerpoint\n",
    "<br>\n",
    "\n",
    "***Application Open Office***<br>\n",
    "application/vnd.openxmlformats-officedocument.presentationml.presentation, application/msword, application/vnd.openxmlformats-officedocument.wordprocessingml.document\n",
    "application/vnd.oasis.opendocument.spreadsheet, application/vnd.oasis.opendocument.presentation, application/vnd.oasis.opendocument.text, application/vnd.openxmlformats-officedocument.spreadsheetml.sheet\n",
    "<br>\n",
    "\n",
    "***Application Other formats***<br>\n",
    "application/pdf, application/rtf,\n",
    "text/html, text/json, text/plain, text/richtext, text/rtf, or text/xml\n",
    "<br>\n",
    "\n",
    "***Application Other formats*** <br> \n",
    "application/pdf, application/rtf,text/html, text/json, text/plain, text/richtext, text/rtf, or text/xml.\n",
    "\n"
   ]
  },
  {
   "cell_type": "code",
   "execution_count": 50,
   "metadata": {},
   "outputs": [
    {
     "name": "stdout",
     "output_type": "stream",
     "text": [
      "{\n",
      "  \"document_id\": \"8d3dd46a-9729-4b4f-811f-3c60a3c43cc0\",\n",
      "  \"filename\": \"tax_statement_notes_2020_English.docx\",\n",
      "  \"model_id\": \"nl-en\",\n",
      "  \"source\": \"nl\",\n",
      "  \"target\": \"en\",\n",
      "  \"status\": \"processing\",\n",
      "  \"created\": \"2021-03-17T15:50:53Z\"\n",
      "}\n"
     ]
    }
   ],
   "source": [
    "with open('files/dutch/tax_statement_notes_2020.docx', 'rb') as file: #add file location\n",
    "    result = language_translator.translate_document(\n",
    "        file=file,\n",
    "        file_content_type='application/msword', # add application type\n",
    "        filename='tax_statement_notes_2020_English.docx', #add file name\n",
    "        model_id='nl-en').get_result()  #add language parameters \n",
    "    print(json.dumps(result, indent=2))"
   ]
  },
  {
   "cell_type": "markdown",
   "metadata": {},
   "source": [
    "### 4.1 Get document status\n",
    "Gets the translation status of a document."
   ]
  },
  {
   "cell_type": "code",
   "execution_count": 52,
   "metadata": {},
   "outputs": [
    {
     "name": "stdout",
     "output_type": "stream",
     "text": [
      "{\n",
      "  \"document_id\": \"8d3dd46a-9729-4b4f-811f-3c60a3c43cc0\",\n",
      "  \"filename\": \"tax_statement_notes_2020_English.docx\",\n",
      "  \"model_id\": \"nl-en\",\n",
      "  \"source\": \"nl\",\n",
      "  \"target\": \"en\",\n",
      "  \"status\": \"available\",\n",
      "  \"created\": \"2021-03-17T15:50:53Z\",\n",
      "  \"completed\": \"2021-03-17T15:51:01Z\",\n",
      "  \"word_count\": 19305,\n",
      "  \"character_count\": 120194\n",
      "}\n"
     ]
    }
   ],
   "source": [
    "result = language_translator.get_document_status(\n",
    "    document_id='8d3dd46a-9729-4b4f-811f-3c60a3c43cc0').get_result()  # Add document ID number\n",
    "print(json.dumps(result, indent=2))\n"
   ]
  },
  {
   "cell_type": "markdown",
   "metadata": {},
   "source": [
    "### 4.3 Get translated document\n",
    "Gets the translated document associated with the given document ID."
   ]
  },
  {
   "cell_type": "code",
   "execution_count": 56,
   "metadata": {},
   "outputs": [],
   "source": [
    "with open('files/english/tax_statement_notes_2020_English.doc', 'wb') as f: #add name for translated document\n",
    "    result = language_translator.get_translated_document(\n",
    "        document_id='8d3dd46a-9729-4b4f-811f-3c60a3c43cc0', #add document ID\n",
    "        accept='application/msword').get_result()  # add application type\n",
    "    f.write(result.content)"
   ]
  },
  {
   "cell_type": "code",
   "execution_count": null,
   "metadata": {},
   "outputs": [],
   "source": []
  }
 ],
 "metadata": {
  "kernelspec": {
   "display_name": "Python 3",
   "language": "python",
   "name": "python3"
  },
  "language_info": {
   "codemirror_mode": {
    "name": "ipython",
    "version": 3
   },
   "file_extension": ".py",
   "mimetype": "text/x-python",
   "name": "python",
   "nbconvert_exporter": "python",
   "pygments_lexer": "ipython3",
   "version": "3.8.5"
  }
 },
 "nbformat": 4,
 "nbformat_minor": 2
}
